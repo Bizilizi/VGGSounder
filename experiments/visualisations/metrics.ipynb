{
 "cells": [
  {
   "cell_type": "code",
   "execution_count": 1,
   "metadata": {},
   "outputs": [
    {
     "data": {
      "application/vnd.jupyter.widget-view+json": {
       "model_id": "06007bc95cf842348164ebdfd89535ed",
       "version_major": 2,
       "version_minor": 0
      },
      "text/plain": [
       "  0%|          | 0/11 [00:00<?, ?it/s]"
      ]
     },
     "metadata": {},
     "output_type": "display_data"
    },
    {
     "name": "stderr",
     "output_type": "stream",
     "text": [
      "/Users/ewriji/Desktop/work/vggsounder/.venv/lib/python3.12/site-packages/sklearn/preprocessing/_label.py:909: UserWarning: unknown class(es) ['wind rustiling leaves'] will be ignored\n",
      "  warnings.warn(\n",
      "/Users/ewriji/Desktop/work/vggsounder/.venv/lib/python3.12/site-packages/sklearn/preprocessing/_label.py:909: UserWarning: unknown class(es) ['wind rustiling leaves'] will be ignored\n",
      "  warnings.warn(\n",
      "/Users/ewriji/Desktop/work/vggsounder/.venv/lib/python3.12/site-packages/sklearn/preprocessing/_label.py:909: UserWarning: unknown class(es) ['female speech, woman someone'] will be ignored\n",
      "  warnings.warn(\n",
      "/Users/ewriji/Desktop/work/vggsounder/.venv/lib/python3.12/site-packages/sklearn/preprocessing/_label.py:909: UserWarning: unknown class(es) ['female speech, woman someone'] will be ignored\n",
      "  warnings.warn(\n"
     ]
    }
   ],
   "source": [
    "from vggsounder.benchmark import benchmark\n",
    "\n",
    "main_table = benchmark(\n",
    "    models_path=\"../../supplimentary/models-results\",\n",
    "    display_names = {\n",
    "        \"cav-mae\": \"CAV-MAE\",\n",
    "        \"deepavfusion\": \"DeepAVFusion\",\n",
    "        \"equiav\": \"Equi-AV\",\n",
    "        \"avsiam\": \"AV-Siam\",\n",
    "        \"gemini-1.5-flash\": \"Gemini 1.5 Flash\",\n",
    "        \"gemini-1.5-pro\": \"Gemini 1.5 Pro\",\n",
    "        \"gemini-2.0-flash\": \"Gemini 2.0 Flash\",\n",
    "        \"video-llama-2-av\": \"VideoLLaMA 2\",\n",
    "        \"unified-io-2\": \"Unified-IO 2\",\n",
    "        \"pandagpt\": \"PandaGPT\",\n",
    "        \"ola\": \"OLA\",\n",
    "    },\n",
    "    metrics=[\n",
    "        (\"accuracy\", [\"a\", \"v\", \"av\"]), \n",
    "        (\"f1\",[\"a\", \"v\", \"av\", \"a only\", \"v only\"]), \n",
    "        (\"hit_rate\",[\"a\", \"v\", \"av\"]), \n",
    "        (\"mu\",[\"a\", \"v\", \"av\"])\n",
    "    ],\n",
    ")"
   ]
  },
  {
   "cell_type": "code",
   "execution_count": 2,
   "metadata": {},
   "outputs": [
    {
     "name": "stdout",
     "output_type": "stream",
     "text": [
      "\\begin{tabular}{lrrrrrrrrrrrrrr}\n",
      "\\toprule\n",
      "metric & \\multicolumn{3}{r}{accuracy} & \\multicolumn{5}{r}{f1} & \\multicolumn{3}{r}{hit_rate} & \\multicolumn{3}{r}{mu} \\\\\n",
      "modality & a & v & av & a & v & av & a only & v only & a & v & av & a & v & av \\\\\n",
      "\\midrule\n",
      "CAV-MAE & 13.19 & 19.23 & 24.49 & 34.47 & 34.91 & 42.62 & 13.94 & 19.00 & 62.30 & 53.44 & 64.17 & 3.59 & 6.43 & 0.78 \\\\\n",
      "DeepAVFusion & 10.19 & 11.10 & 21.53 & 25.31 & 21.29 & 37.35 & 10.37 & 10.55 & 45.77 & 32.61 & 56.27 & 3.74 & 3.93 & 0.17 \\\\\n",
      "Equi-AV & 11.60 & 10.52 & 20.00 & 29.39 & 20.42 & 34.69 & 12.55 & 10.65 & 53.12 & 31.26 & 52.24 & 6.97 & 7.13 & 1.38 \\\\\n",
      "AV-Siam & 12.79 & 19.75 & 22.83 & 33.30 & 35.41 & 39.43 & 12.90 & 18.21 & 60.18 & 54.20 & 59.36 & 9.36 & 8.80 & 3.58 \\\\\n",
      "Gemini 1.5 Flash & 1.78 & 14.44 & 16.44 & 14.49 & 36.98 & 42.52 & 15.61 & 21.61 & 32.73 & 47.36 & 59.10 & 10.22 & 4.25 & 0.77 \\\\\n",
      "Gemini 1.5 Pro & 3.05 & 20.86 & 22.53 & 19.26 & 49.73 & 53.74 & 17.73 & 22.90 & 35.03 & 69.23 & 75.42 & 2.09 & 4.85 & 0.57 \\\\\n",
      "Gemini 2.0 Flash & 1.85 & 12.54 & 12.69 & 11.80 & 34.08 & 36.45 & 6.19 & 18.90 & 18.51 & 43.83 & 47.72 & 2.39 & 5.43 & 1.00 \\\\\n",
      "VideoLLaMA 2 & 12.86 & 19.85 & 24.47 & 38.87 & 47.82 & 52.35 & 20.34 & 28.08 & 58.91 & 52.02 & 59.80 & 12.72 & 5.46 & 2.95 \\\\\n",
      "Unified-IO 2 & 11.94 & 11.56 & 25.61 & 35.31 & 27.92 & 48.89 & 21.38 & 16.53 & 54.39 & 31.05 & 65.11 & 8.70 & 5.16 & 1.79 \\\\\n",
      "PandaGPT & 3.19 & 4.19 & 5.46 & 18.73 & 18.56 & 20.85 & 16.82 & 14.40 & 21.08 & 17.01 & 18.82 & 7.59 & 5.90 & 2.47 \\\\\n",
      "OLA & 14.11 & 8.69 & 18.19 & 47.70 & 24.85 & 46.48 & 40.44 & 13.45 & 59.05 & 24.57 & 51.51 & 15.47 & 6.80 & 2.49 \\\\\n",
      "\\bottomrule\n",
      "\\end{tabular}\n",
      "\n"
     ]
    }
   ],
   "source": [
    "print(main_table.to_latex(float_format=\"%.2f\".__mod__))"
   ]
  }
 ],
 "metadata": {
  "kernelspec": {
   "display_name": ".venv",
   "language": "python",
   "name": "python3"
  },
  "language_info": {
   "codemirror_mode": {
    "name": "ipython",
    "version": 3
   },
   "file_extension": ".py",
   "mimetype": "text/x-python",
   "name": "python",
   "nbconvert_exporter": "python",
   "pygments_lexer": "ipython3",
   "version": "3.12.9"
  }
 },
 "nbformat": 4,
 "nbformat_minor": 2
}
